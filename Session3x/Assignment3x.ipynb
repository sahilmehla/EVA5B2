{
  "nbformat": 4,
  "nbformat_minor": 0,
  "metadata": {
    "orig_nbformat": 2,
    "kernelspec": {
      "name": "python3",
      "display_name": "Python 3"
    },
    "colab": {
      "name": "Assignment3x.ipynb",
      "provenance": []
    },
    "accelerator": "GPU",
    "widgets": {
      "application/vnd.jupyter.widget-state+json": {
        "bf3e853055d843259b0a2bdc629057fd": {
          "model_module": "@jupyter-widgets/controls",
          "model_name": "HBoxModel",
          "state": {
            "_view_name": "HBoxView",
            "_dom_classes": [],
            "_model_name": "HBoxModel",
            "_view_module": "@jupyter-widgets/controls",
            "_model_module_version": "1.5.0",
            "_view_count": null,
            "_view_module_version": "1.5.0",
            "box_style": "",
            "layout": "IPY_MODEL_c3ee679418c04cc0bc95782cb500db48",
            "_model_module": "@jupyter-widgets/controls",
            "children": [
              "IPY_MODEL_e20d6285c9324c35a3b750666d40e292",
              "IPY_MODEL_1018e32323b44773aff17367921d9672"
            ]
          }
        },
        "c3ee679418c04cc0bc95782cb500db48": {
          "model_module": "@jupyter-widgets/base",
          "model_name": "LayoutModel",
          "state": {
            "_view_name": "LayoutView",
            "grid_template_rows": null,
            "right": null,
            "justify_content": null,
            "_view_module": "@jupyter-widgets/base",
            "overflow": null,
            "_model_module_version": "1.2.0",
            "_view_count": null,
            "flex_flow": null,
            "width": null,
            "min_width": null,
            "border": null,
            "align_items": null,
            "bottom": null,
            "_model_module": "@jupyter-widgets/base",
            "top": null,
            "grid_column": null,
            "overflow_y": null,
            "overflow_x": null,
            "grid_auto_flow": null,
            "grid_area": null,
            "grid_template_columns": null,
            "flex": null,
            "_model_name": "LayoutModel",
            "justify_items": null,
            "grid_row": null,
            "max_height": null,
            "align_content": null,
            "visibility": null,
            "align_self": null,
            "height": null,
            "min_height": null,
            "padding": null,
            "grid_auto_rows": null,
            "grid_gap": null,
            "max_width": null,
            "order": null,
            "_view_module_version": "1.2.0",
            "grid_template_areas": null,
            "object_position": null,
            "object_fit": null,
            "grid_auto_columns": null,
            "margin": null,
            "display": null,
            "left": null
          }
        },
        "e20d6285c9324c35a3b750666d40e292": {
          "model_module": "@jupyter-widgets/controls",
          "model_name": "FloatProgressModel",
          "state": {
            "_view_name": "ProgressView",
            "style": "IPY_MODEL_02aeb5bddf0b42b991c493d3d89b963f",
            "_dom_classes": [],
            "description": "",
            "_model_name": "FloatProgressModel",
            "bar_style": "info",
            "max": 1,
            "_view_module": "@jupyter-widgets/controls",
            "_model_module_version": "1.5.0",
            "value": 1,
            "_view_count": null,
            "_view_module_version": "1.5.0",
            "orientation": "horizontal",
            "min": 0,
            "description_tooltip": null,
            "_model_module": "@jupyter-widgets/controls",
            "layout": "IPY_MODEL_1d6bf3bf05d94bc78070430e60120e12"
          }
        },
        "1018e32323b44773aff17367921d9672": {
          "model_module": "@jupyter-widgets/controls",
          "model_name": "HTMLModel",
          "state": {
            "_view_name": "HTMLView",
            "style": "IPY_MODEL_c48209cec01d4730b06e496e928379cb",
            "_dom_classes": [],
            "description": "",
            "_model_name": "HTMLModel",
            "placeholder": "​",
            "_view_module": "@jupyter-widgets/controls",
            "_model_module_version": "1.5.0",
            "value": " 561758208/? [02:40&lt;00:00, 2973014.59it/s]",
            "_view_count": null,
            "_view_module_version": "1.5.0",
            "description_tooltip": null,
            "_model_module": "@jupyter-widgets/controls",
            "layout": "IPY_MODEL_ebf0c1d6ddd54e92a05651ced7e339e1"
          }
        },
        "02aeb5bddf0b42b991c493d3d89b963f": {
          "model_module": "@jupyter-widgets/controls",
          "model_name": "ProgressStyleModel",
          "state": {
            "_view_name": "StyleView",
            "_model_name": "ProgressStyleModel",
            "description_width": "initial",
            "_view_module": "@jupyter-widgets/base",
            "_model_module_version": "1.5.0",
            "_view_count": null,
            "_view_module_version": "1.2.0",
            "bar_color": null,
            "_model_module": "@jupyter-widgets/controls"
          }
        },
        "1d6bf3bf05d94bc78070430e60120e12": {
          "model_module": "@jupyter-widgets/base",
          "model_name": "LayoutModel",
          "state": {
            "_view_name": "LayoutView",
            "grid_template_rows": null,
            "right": null,
            "justify_content": null,
            "_view_module": "@jupyter-widgets/base",
            "overflow": null,
            "_model_module_version": "1.2.0",
            "_view_count": null,
            "flex_flow": null,
            "width": null,
            "min_width": null,
            "border": null,
            "align_items": null,
            "bottom": null,
            "_model_module": "@jupyter-widgets/base",
            "top": null,
            "grid_column": null,
            "overflow_y": null,
            "overflow_x": null,
            "grid_auto_flow": null,
            "grid_area": null,
            "grid_template_columns": null,
            "flex": null,
            "_model_name": "LayoutModel",
            "justify_items": null,
            "grid_row": null,
            "max_height": null,
            "align_content": null,
            "visibility": null,
            "align_self": null,
            "height": null,
            "min_height": null,
            "padding": null,
            "grid_auto_rows": null,
            "grid_gap": null,
            "max_width": null,
            "order": null,
            "_view_module_version": "1.2.0",
            "grid_template_areas": null,
            "object_position": null,
            "object_fit": null,
            "grid_auto_columns": null,
            "margin": null,
            "display": null,
            "left": null
          }
        },
        "c48209cec01d4730b06e496e928379cb": {
          "model_module": "@jupyter-widgets/controls",
          "model_name": "DescriptionStyleModel",
          "state": {
            "_view_name": "StyleView",
            "_model_name": "DescriptionStyleModel",
            "description_width": "",
            "_view_module": "@jupyter-widgets/base",
            "_model_module_version": "1.5.0",
            "_view_count": null,
            "_view_module_version": "1.2.0",
            "_model_module": "@jupyter-widgets/controls"
          }
        },
        "ebf0c1d6ddd54e92a05651ced7e339e1": {
          "model_module": "@jupyter-widgets/base",
          "model_name": "LayoutModel",
          "state": {
            "_view_name": "LayoutView",
            "grid_template_rows": null,
            "right": null,
            "justify_content": null,
            "_view_module": "@jupyter-widgets/base",
            "overflow": null,
            "_model_module_version": "1.2.0",
            "_view_count": null,
            "flex_flow": null,
            "width": null,
            "min_width": null,
            "border": null,
            "align_items": null,
            "bottom": null,
            "_model_module": "@jupyter-widgets/base",
            "top": null,
            "grid_column": null,
            "overflow_y": null,
            "overflow_x": null,
            "grid_auto_flow": null,
            "grid_area": null,
            "grid_template_columns": null,
            "flex": null,
            "_model_name": "LayoutModel",
            "justify_items": null,
            "grid_row": null,
            "max_height": null,
            "align_content": null,
            "visibility": null,
            "align_self": null,
            "height": null,
            "min_height": null,
            "padding": null,
            "grid_auto_rows": null,
            "grid_gap": null,
            "max_width": null,
            "order": null,
            "_view_module_version": "1.2.0",
            "grid_template_areas": null,
            "object_position": null,
            "object_fit": null,
            "grid_auto_columns": null,
            "margin": null,
            "display": null,
            "left": null
          }
        }
      }
    }
  },
  "cells": [
    {
      "cell_type": "markdown",
      "metadata": {
        "id": "fK80SC6lI6WI"
      },
      "source": [
        "# Importing Libraries"
      ]
    },
    {
      "cell_type": "code",
      "metadata": {
        "id": "oEOtYz_TI6WN"
      },
      "source": [
        "import torch\n",
        "import torch.nn as nn\n",
        "import torch.nn.functional as F\n",
        "import torch.optim as optim  # optimizer used to update the weights\n",
        "\n",
        "import torchvision\n",
        "import torchvision.transforms as transforms\n",
        "\n",
        "torch.set_printoptions(linewidth=120)"
      ],
      "execution_count": 1,
      "outputs": []
    },
    {
      "cell_type": "markdown",
      "metadata": {
        "id": "JBNJkVI8I6WN"
      },
      "source": [
        "# Checking the GPU availability and properties"
      ]
    },
    {
      "cell_type": "code",
      "metadata": {
        "colab": {
          "base_uri": "https://localhost:8080/"
        },
        "id": "lk0sZwuMI6WN",
        "outputId": "1c6cdc50-fb0a-409c-be8d-31e4438166b3"
      },
      "source": [
        "# Check for detecting if GPU is available\n",
        "print(torch.__version__)\n",
        "print(torchvision.__version__)\n",
        "print(torch.cuda.is_available())\n",
        "\n",
        "# GPU device details\n",
        "print(torch.cuda.current_device())\n",
        "print(torch.cuda.device(0))\n",
        "print(torch.cuda.device_count())\n",
        "print(torch.cuda.get_device_name(0))"
      ],
      "execution_count": 2,
      "outputs": [
        {
          "output_type": "stream",
          "text": [
            "1.7.0+cu101\n",
            "0.8.1+cu101\n",
            "True\n",
            "0\n",
            "<torch.cuda.device object at 0x7f1b688300f0>\n",
            "1\n",
            "Tesla T4\n"
          ],
          "name": "stdout"
        }
      ]
    },
    {
      "cell_type": "markdown",
      "metadata": {
        "id": "_l8tgVj-I6WO"
      },
      "source": [
        "# E-T-L Step\n",
        "\n",
        "Extract ==> Transform ==> Load"
      ]
    },
    {
      "cell_type": "code",
      "metadata": {
        "id": "pZIWPlmoI6WO",
        "colab": {
          "base_uri": "https://localhost:8080/",
          "height": 273,
          "referenced_widgets": [
            "bf3e853055d843259b0a2bdc629057fd",
            "c3ee679418c04cc0bc95782cb500db48",
            "e20d6285c9324c35a3b750666d40e292",
            "1018e32323b44773aff17367921d9672",
            "02aeb5bddf0b42b991c493d3d89b963f",
            "1d6bf3bf05d94bc78070430e60120e12",
            "c48209cec01d4730b06e496e928379cb",
            "ebf0c1d6ddd54e92a05651ced7e339e1"
          ]
        },
        "outputId": "924226ab-7889-42da-f6a2-82b3b9c0acc0"
      },
      "source": [
        "\n",
        "# Extracting/Downloading and transforming the images to tensor\n",
        "train_set = torchvision.datasets.EMNIST(\n",
        "    root='./data/EMNIST'\n",
        "    ,split='byclass'\n",
        "    ,train=True\n",
        "    ,download=True\n",
        "    ,transform=transforms.Compose([\n",
        "        transforms.ToTensor()\n",
        "    ])\n",
        ")\n",
        "\n",
        "# Loading the training images in the form of batches.\n",
        "train_loader = torch.utils.data.DataLoader(train_set, batch_size=100, shuffle=True)"
      ],
      "execution_count": 3,
      "outputs": [
        {
          "output_type": "stream",
          "text": [
            "Downloading and extracting zip archive\n",
            "Downloading http://www.itl.nist.gov/iaui/vip/cs_links/EMNIST/gzip.zip to ./data/EMNIST/EMNIST/raw/emnist.zip\n"
          ],
          "name": "stdout"
        },
        {
          "output_type": "display_data",
          "data": {
            "application/vnd.jupyter.widget-view+json": {
              "model_id": "bf3e853055d843259b0a2bdc629057fd",
              "version_minor": 0,
              "version_major": 2
            },
            "text/plain": [
              "HBox(children=(FloatProgress(value=1.0, bar_style='info', max=1.0), HTML(value='')))"
            ]
          },
          "metadata": {
            "tags": []
          }
        },
        {
          "output_type": "stream",
          "text": [
            "Extracting ./data/EMNIST/EMNIST/raw/emnist.zip to ./data/EMNIST/EMNIST/raw\n",
            "Processing byclass\n"
          ],
          "name": "stdout"
        },
        {
          "output_type": "stream",
          "text": [
            "/usr/local/lib/python3.6/dist-packages/torchvision/datasets/mnist.py:480: UserWarning: The given NumPy array is not writeable, and PyTorch does not support non-writeable tensors. This means you can write to the underlying (supposedly non-writeable) NumPy array using the tensor. You may want to copy the array to protect its data or make it writeable before converting it to a tensor. This type of warning will be suppressed for the rest of this program. (Triggered internally at  /pytorch/torch/csrc/utils/tensor_numpy.cpp:141.)\n",
            "  return torch.from_numpy(parsed.astype(m[2], copy=False)).view(*s)\n"
          ],
          "name": "stderr"
        },
        {
          "output_type": "stream",
          "text": [
            "Processing bymerge\n",
            "Processing balanced\n",
            "Processing letters\n",
            "Processing digits\n",
            "Processing mnist\n",
            "Done!\n"
          ],
          "name": "stdout"
        }
      ]
    },
    {
      "cell_type": "markdown",
      "metadata": {
        "id": "ZObEXoLVI6WP"
      },
      "source": [
        "# Examine the training data"
      ]
    },
    {
      "cell_type": "code",
      "metadata": {
        "colab": {
          "base_uri": "https://localhost:8080/"
        },
        "id": "99n1l0gzI6WP",
        "outputId": "d8dac49f-74d0-4d6d-fd2f-b7a0bd53dcd6"
      },
      "source": [
        "len(train_set)"
      ],
      "execution_count": 4,
      "outputs": [
        {
          "output_type": "execute_result",
          "data": {
            "text/plain": [
              "697932"
            ]
          },
          "metadata": {
            "tags": []
          },
          "execution_count": 4
        }
      ]
    },
    {
      "cell_type": "code",
      "metadata": {
        "colab": {
          "base_uri": "https://localhost:8080/"
        },
        "id": "00mPlgebI6WP",
        "outputId": "ffb983bb-a92a-4d62-ca3d-aba61d17b6cc"
      },
      "source": [
        "print('Max Label id: ',train_set.train_labels.max().item())\n",
        "print('Min Label id: ',train_set.train_labels.min().item())\n",
        "print('Images in each label: ',train_set.train_labels.bincount())\n",
        "\n"
      ],
      "execution_count": 5,
      "outputs": [
        {
          "output_type": "stream",
          "text": [
            "Max Label id:  61\n",
            "Min Label id:  0\n",
            "Images in each label:  tensor([34585, 38374, 34203, 35143, 33535, 31416, 34232, 35754, 33946, 33847,  6407,  3878, 10094,  4562,  4934,  9182,\n",
            "         2517,  3152, 11946,  3762,  2468,  5076,  9002,  8237, 24983,  8347,  2605,  5073, 20764,  9820, 12602,  4637,\n",
            "         4695,  2771,  4743,  2701, 10033,  5159,  2854, 10177, 24631,  2561,  3687,  8738,  2725,  1896,  2491, 15318,\n",
            "         2645, 11418,  2749,  2448,  2994, 14105,  2699, 18262,  2830,  2910,  2697,  2822,  2365,  2725])\n"
          ],
          "name": "stdout"
        },
        {
          "output_type": "stream",
          "text": [
            "/usr/local/lib/python3.6/dist-packages/torchvision/datasets/mnist.py:48: UserWarning: train_labels has been renamed targets\n",
            "  warnings.warn(\"train_labels has been renamed targets\")\n"
          ],
          "name": "stderr"
        }
      ]
    },
    {
      "cell_type": "code",
      "metadata": {
        "colab": {
          "base_uri": "https://localhost:8080/"
        },
        "id": "eZn7E4lzI6WP",
        "outputId": "675157f5-c4aa-49df-cad7-2084b1cc35b4"
      },
      "source": [
        "sample = next(iter(train_set))\n",
        "image, label = sample \n",
        "\n",
        "image.shape, label"
      ],
      "execution_count": 6,
      "outputs": [
        {
          "output_type": "execute_result",
          "data": {
            "text/plain": [
              "(torch.Size([1, 28, 28]), 35)"
            ]
          },
          "metadata": {
            "tags": []
          },
          "execution_count": 6
        }
      ]
    },
    {
      "cell_type": "markdown",
      "metadata": {
        "id": "GwJppz0yI6WQ"
      },
      "source": [
        "# Design the training model"
      ]
    },
    {
      "cell_type": "code",
      "metadata": {
        "id": "xoM8HGp9I6WQ"
      },
      "source": [
        "class Network(nn.Module):\n",
        "    def __init__(self):\n",
        "        super().__init__()\n",
        "        self.conv1 = nn.Conv2d(in_channels=1, out_channels=10, kernel_size=3, padding=1)\n",
        "        self.conv2 = nn.Conv2d(in_channels=10, out_channels=10, kernel_size=3, padding=1)\n",
        "        self.conv3 = nn.Conv2d(in_channels=10, out_channels=20, kernel_size=3, padding=1)\n",
        "        self.conv4 = nn.Conv2d(in_channels=20, out_channels=20, kernel_size=3, padding=1)\n",
        "        self.conv5 = nn.Conv2d(in_channels=20, out_channels=30, kernel_size=3, padding=1)\n",
        "        self.conv6 = nn.Conv2d(in_channels=30, out_channels=62, kernel_size=3, padding=1)\n",
        "\n",
        "\n",
        "    def forward(self, t):                                           #input size >> output size >> receptive field\n",
        "        # (1) Input layer\n",
        "        t=t                                                         #1x28x28 >> 1x28x28 >> 0\n",
        "\n",
        "        # (2) hidden conv layer\n",
        "        t=self.conv1(t)                                             #1x28x28 >> 10x28x28 >> 3\n",
        "        t=F.relu(t)    \n",
        "\n",
        "        # (3) hidden conv layer\n",
        "        t=self.conv2(t)                                             #10x28x28 >> 10x28x28 >> 5 \n",
        "        t=F.relu(t)\n",
        "        t=F.max_pool2d(t, kernel_size=2, stride=2)                  #10x28x28 >> 10x14x14 >> 10\n",
        "\n",
        "        # (4) hidden conv layer\n",
        "        t=self.conv3(t)                                             #10x14x14 >> 20x14x14 >> 12\n",
        "        t=F.relu(t)    \n",
        "\n",
        "        # (5) hidden conv layer\n",
        "        t=self.conv4(t)                                             #20x14x14 >> 20x14x14 >> 14\n",
        "        t=F.relu(t)\n",
        "        t=F.max_pool2d(t, kernel_size=2, stride=2)                  #20x14x14 >> 20x7x7 >> 28\n",
        "\n",
        "        # (6) hidden conv layer\n",
        "        t=self.conv5(t)                                             #20x7x7 >> 30x7x7 >> 30\n",
        "        t=F.relu(t)    \n",
        "\n",
        "        # (7) hidden conv layer\n",
        "        t=self.conv6(t)                                             #30x7x7 >> 62x7x7 >> 32\n",
        "        t=F.relu(t)\n",
        "\n",
        "        # (8) output layer\n",
        "        t=F.adaptive_avg_pool2d(t, (1, 1))                          #62x7x7 >> 62x1x1 \n",
        "        t=t.squeeze()                                               #62x1x1 >> 62\n",
        "        return t\n",
        "\n",
        "\n",
        "\n"
      ],
      "execution_count": 7,
      "outputs": []
    },
    {
      "cell_type": "markdown",
      "metadata": {
        "id": "IsuTuis2I6WQ"
      },
      "source": [
        "# Verifying the Network output"
      ]
    },
    {
      "cell_type": "code",
      "metadata": {
        "colab": {
          "base_uri": "https://localhost:8080/"
        },
        "id": "LoB6fpUeI6WQ",
        "outputId": "b929f80c-a392-4c70-9a93-5cbbc1566cd4"
      },
      "source": [
        "network1 = Network()\n",
        "\n",
        "image = image.reshape(1,1,28,28)\n",
        "t1 = network1(image)\n",
        "print(t1.shape)\n",
        "t1"
      ],
      "execution_count": 8,
      "outputs": [
        {
          "output_type": "stream",
          "text": [
            "torch.Size([62])\n"
          ],
          "name": "stdout"
        },
        {
          "output_type": "execute_result",
          "data": {
            "text/plain": [
              "tensor([0.0000e+00, 1.8094e-02, 2.5436e-02, 0.0000e+00, 4.1494e-02, 8.9119e-04, 0.0000e+00, 0.0000e+00, 6.8858e-02,\n",
              "        0.0000e+00, 0.0000e+00, 0.0000e+00, 0.0000e+00, 0.0000e+00, 0.0000e+00, 4.4216e-03, 0.0000e+00, 0.0000e+00,\n",
              "        5.0215e-02, 0.0000e+00, 1.8835e-03, 0.0000e+00, 0.0000e+00, 1.5910e-02, 0.0000e+00, 1.0536e-02, 3.0548e-02,\n",
              "        0.0000e+00, 0.0000e+00, 0.0000e+00, 6.0819e-02, 0.0000e+00, 3.5168e-02, 3.9394e-03, 1.4906e-04, 3.9383e-02,\n",
              "        2.7945e-02, 3.4765e-05, 1.5398e-02, 2.9058e-02, 8.7894e-05, 3.2181e-02, 2.3391e-02, 0.0000e+00, 1.1552e-02,\n",
              "        8.6316e-03, 0.0000e+00, 2.5356e-05, 0.0000e+00, 3.2607e-02, 0.0000e+00, 0.0000e+00, 2.0887e-02, 5.0428e-02,\n",
              "        0.0000e+00, 3.6003e-03, 6.0142e-02, 0.0000e+00, 5.5059e-02, 4.4658e-02, 0.0000e+00, 0.0000e+00],\n",
              "       grad_fn=<SqueezeBackward0>)"
            ]
          },
          "metadata": {
            "tags": []
          },
          "execution_count": 8
        }
      ]
    },
    {
      "cell_type": "code",
      "metadata": {
        "id": "QoQ4HnjII6WR"
      },
      "source": [
        "def get_num_correct(preds,labels):\n",
        "    return preds.argmax(dim=1).eq(labels).sum().item()"
      ],
      "execution_count": 9,
      "outputs": []
    },
    {
      "cell_type": "markdown",
      "metadata": {
        "id": "uP_4iQFSI6WR"
      },
      "source": [
        "# Training the neural network \n",
        "\n",
        "To train a network, need to follow the following process\n",
        "\n",
        "1. create a batch of images\n",
        "2. calculate the loss function(cross entropy loss function)\n",
        "3. calculate the gradient(backprop)\n",
        "4. update the weights to reduce the loss(optimizer)\n",
        "5. repeat step 1 to 4 for all the batches untill you reach 1 epoch"
      ]
    },
    {
      "cell_type": "code",
      "metadata": {
        "colab": {
          "base_uri": "https://localhost:8080/"
        },
        "id": "Agc_zWQiI6WR",
        "outputId": "6da3ca1f-3694-4aa0-c6c9-6890af7cad9a"
      },
      "source": [
        "network = Network()\n",
        "\n",
        "optimizer=optim.Adam(network.parameters(), lr=0.01)  # Using adam optimizer\n",
        "\n",
        "for epoch in range(20):      # 1 epoch is training the network through all the images once, we have 20 epochs here \n",
        "    \n",
        "    total_loss =0\n",
        "    total_correct=0\n",
        "\n",
        "    for batch in train_loader:\n",
        "        images, labels = batch\n",
        "\n",
        "        preds = network(images) # pass batch of images through the network\n",
        "        loss=F.cross_entropy(preds, labels) # calculate the loss\n",
        "\n",
        "        # pytorch accumulates the gradients\n",
        "        # so zero out the gradients before calculating again\n",
        "        optimizer.zero_grad() \n",
        "        loss.backward() # calculate gradient\n",
        "        optimizer.step() # update weights\n",
        "\n",
        "        total_loss += loss\n",
        "        total_correct += get_num_correct(preds,labels)\n",
        "\n",
        "    print(\"epoch:\", epoch, \"total correct:\", total_correct, 'total loss:', total_loss)\n",
        "\n",
        "\n"
      ],
      "execution_count": 10,
      "outputs": [
        {
          "output_type": "stream",
          "text": [
            "epoch: 0 total correct: 389753 total loss: tensor(13548.6113, grad_fn=<AddBackward0>)\n",
            "epoch: 1 total correct: 406012 total loss: tensor(12671.5264, grad_fn=<AddBackward0>)\n",
            "epoch: 2 total correct: 407602 total loss: tensor(12584.1641, grad_fn=<AddBackward0>)\n",
            "epoch: 3 total correct: 408396 total loss: tensor(12516.3193, grad_fn=<AddBackward0>)\n",
            "epoch: 4 total correct: 408811 total loss: tensor(12471.5908, grad_fn=<AddBackward0>)\n",
            "epoch: 5 total correct: 409368 total loss: tensor(12438.0645, grad_fn=<AddBackward0>)\n",
            "epoch: 6 total correct: 409385 total loss: tensor(12439.2246, grad_fn=<AddBackward0>)\n",
            "epoch: 7 total correct: 409802 total loss: tensor(12428.3203, grad_fn=<AddBackward0>)\n",
            "epoch: 8 total correct: 410131 total loss: tensor(12398.0547, grad_fn=<AddBackward0>)\n",
            "epoch: 9 total correct: 410357 total loss: tensor(12387.2148, grad_fn=<AddBackward0>)\n",
            "epoch: 10 total correct: 410334 total loss: tensor(12382.0547, grad_fn=<AddBackward0>)\n",
            "epoch: 11 total correct: 410634 total loss: tensor(12374.1211, grad_fn=<AddBackward0>)\n",
            "epoch: 12 total correct: 410373 total loss: tensor(12383.0234, grad_fn=<AddBackward0>)\n",
            "epoch: 13 total correct: 410376 total loss: tensor(12379.6318, grad_fn=<AddBackward0>)\n",
            "epoch: 14 total correct: 410389 total loss: tensor(12375.4092, grad_fn=<AddBackward0>)\n",
            "epoch: 15 total correct: 410758 total loss: tensor(12367.6367, grad_fn=<AddBackward0>)\n",
            "epoch: 16 total correct: 410689 total loss: tensor(12364.1143, grad_fn=<AddBackward0>)\n",
            "epoch: 17 total correct: 410831 total loss: tensor(12364.6357, grad_fn=<AddBackward0>)\n",
            "epoch: 18 total correct: 410711 total loss: tensor(12360.6523, grad_fn=<AddBackward0>)\n",
            "epoch: 19 total correct: 410851 total loss: tensor(12359.6289, grad_fn=<AddBackward0>)\n"
          ],
          "name": "stdout"
        }
      ]
    },
    {
      "cell_type": "code",
      "metadata": {
        "id": "UxRMFtqWI6WR",
        "colab": {
          "base_uri": "https://localhost:8080/"
        },
        "outputId": "9696efeb-49ea-4c6c-f637-74eb6d61b687"
      },
      "source": [
        "#Accuracy\n",
        "total_correct/len(train_set)"
      ],
      "execution_count": 11,
      "outputs": [
        {
          "output_type": "execute_result",
          "data": {
            "text/plain": [
              "0.5886690967028306"
            ]
          },
          "metadata": {
            "tags": []
          },
          "execution_count": 11
        }
      ]
    }
  ]
}